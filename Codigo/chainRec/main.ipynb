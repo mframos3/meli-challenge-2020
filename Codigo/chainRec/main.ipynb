{
 "metadata": {
  "language_info": {
   "codemirror_mode": {
    "name": "ipython",
    "version": 3
   },
   "file_extension": ".py",
   "mimetype": "text/x-python",
   "name": "python",
   "nbconvert_exporter": "python",
   "pygments_lexer": "ipython3",
   "version": "3.7.3-final"
  },
  "orig_nbformat": 2,
  "kernelspec": {
   "name": "python3",
   "display_name": "Python 3.7.3 64-bit ('chainRec': pipenv)",
   "metadata": {
    "interpreter": {
     "hash": "fc851799fc87a047028b1067ed2d191ac6a94deb117bea1ae6685249b5a7740f"
    }
   }
  }
 },
 "nbformat": 4,
 "nbformat_minor": 2,
 "cells": [
  {
   "source": [
    "# chainRec"
   ],
   "cell_type": "markdown",
   "metadata": {}
  },
  {
   "cell_type": "code",
   "execution_count": 1,
   "metadata": {},
   "outputs": [],
   "source": [
    "import tensorflow as tf\n",
    "import numpy as np\n",
    "import pandas as pd\n",
    "import sys\n",
    "sys.path.append('./src/')\n",
    "from chainRec import chainRec\n",
    "from dataset import Dataset\n",
    "from tqdm import tqdm\n",
    "\n",
    "DATA_DIR = \"./data/\"\n",
    "MODEL_DIR = \"./models/\"\n",
    "OUTPUT_DIR = \"./results/\""
   ]
  },
  {
   "source": [
    "## carga datos"
   ],
   "cell_type": "markdown",
   "metadata": {}
  },
  {
   "cell_type": "code",
   "execution_count": 2,
   "metadata": {},
   "outputs": [
    {
     "output_type": "stream",
     "name": "stdout",
     "text": [
      "Initializing dataset: mercado_libre_test\n",
      "Successfully initialized!\n",
      "1459964 interactions about 177070 users, 2102275 items, 2 stages are loaded!\n"
     ]
    }
   ],
   "source": [
    "test = Dataset('mercado_libre_test', n_stage=2)"
   ]
  },
  {
   "cell_type": "code",
   "execution_count": 3,
   "metadata": {},
   "outputs": [
    {
     "output_type": "stream",
     "name": "stdout",
     "text": [
      "Initializing dataset: mercado_libre\n",
      "Successfully initialized!\n",
      "3646946 interactions about 413163 users, 2102277 items, 2 stages are loaded!\n"
     ]
    }
   ],
   "source": [
    "train = Dataset('mercado_libre', n_stage=2)"
   ]
  },
  {
   "source": [
    "## Settings modelo"
   ],
   "cell_type": "markdown",
   "metadata": {}
  },
  {
   "cell_type": "code",
   "execution_count": 4,
   "metadata": {},
   "outputs": [],
   "source": [
    "myModel = chainRec(train.n_user, train.n_item, train.n_stage, train.DATA_NAME)\n",
    "myModel.config_global(MODEL_CLASS=\"chainRec_uniform\", HIDDEN_DIM=16, \n",
    "                              LAMBDA=0.1, LEARNING_RATE=0.001, BATCH_SIZE=256,\n",
    "                              target_stage_id=(2-1))"
   ]
  },
  {
   "source": [
    "## Entrenamiento"
   ],
   "cell_type": "markdown",
   "metadata": {}
  },
  {
   "source": [
    "Se entrena el modelo ejecutando el código source de chainrec mediante la command line. Ejemplo del comando es\n",
    "\n",
    "`python test_final_stage.py --dataset mercadolibre --method chainRec_uniform --nStage 2 --embedSize 16 --l2 0.1`"
   ],
   "cell_type": "markdown",
   "metadata": {}
  },
  {
   "source": [
    "### Generación resultados"
   ],
   "cell_type": "markdown",
   "metadata": {}
  },
  {
   "cell_type": "code",
   "execution_count": 9,
   "metadata": {},
   "outputs": [
    {
     "output_type": "stream",
     "name": "stdout",
     "text": [
      "INFO:tensorflow:Restoring parameters from ./models/mercado_libre.chainRec_uniform.dim.16.lambda.0.1.model.ckpt\n",
      "100%|██████████| 4903/4903 [4:47:10<00:00,  3.51s/it]\n"
     ]
    }
   ],
   "source": [
    "with tf.Graph().as_default(), tf.Session() as session:\n",
    "    u, i, j, li, lj, s, logloss, optimizer, valiloss = myModel.model_constructor(myModel.n_user, myModel.n_item, myModel.n_stage, myModel.HIDDEN_DIM, myModel.LAMBDA, myModel.LEARNING_RATE)\n",
    "    session.run(tf.global_variables_initializer())\n",
    "    saver = tf.train.Saver()\n",
    "    saver.restore(session, MODEL_DIR + myModel.MODEL_NAME + \".model.ckpt\")\n",
    "    with open('out.csv', 'a') as f:\n",
    "      for _k0 in tqdm(range(30000, test.n_user, 30)):\n",
    "        user_list = list(range(_k0, (_k0 + 30)))\n",
    "        np.savetxt(f, np.argpartition(np.array(s.eval(feed_dict={u: user_list}))[:,:,1], -10, axis=1)[:, -10:], delimiter=',', fmt=\"%d\")\n"
   ]
  },
  {
   "cell_type": "code",
   "execution_count": 11,
   "metadata": {},
   "outputs": [
    {
     "output_type": "execute_result",
     "data": {
      "text/plain": [
       "177070"
      ]
     },
     "metadata": {},
     "execution_count": 11
    }
   ],
   "source": [
    "test.n_user"
   ]
  }
 ]
}