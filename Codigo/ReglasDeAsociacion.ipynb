{
 "metadata": {
  "language_info": {
   "codemirror_mode": {
    "name": "ipython",
    "version": 3
   },
   "file_extension": ".py",
   "mimetype": "text/x-python",
   "name": "python",
   "nbconvert_exporter": "python",
   "pygments_lexer": "ipython3",
   "version": "3.8.5-final"
  },
  "orig_nbformat": 2,
  "kernelspec": {
   "name": "python3",
   "display_name": "Python 3.8.5 64-bit",
   "metadata": {
    "interpreter": {
     "hash": "082e9a3bcad0a290d0001e938aa60b99250c6c2ef33a923c00b70f9826caf4b7"
    }
   }
  }
 },
 "nbformat": 4,
 "nbformat_minor": 2,
 "cells": [
  {
   "source": [
    "# Reglas de asociación sobre dominios"
   ],
   "cell_type": "markdown",
   "metadata": {}
  },
  {
   "cell_type": "code",
   "execution_count": 1,
   "metadata": {},
   "outputs": [],
   "source": [
    "#Import modules\n",
    "import gzip\n",
    "import json\n",
    "import gc\n",
    "import math\n",
    "import random\n",
    "import numpy as np\n",
    "import pandas as pd \n",
    "\n",
    "from collections import Counter, defaultdict\n",
    "from tqdm import tqdm\n",
    "from pathlib import Path\n",
    "from sklearn.model_selection import train_test_split\n",
    "from mlxtend.preprocessing import TransactionEncoder"
   ]
  },
  {
   "source": [
    "## Carga de datos"
   ],
   "cell_type": "markdown",
   "metadata": {}
  },
  {
   "cell_type": "code",
   "execution_count": 7,
   "metadata": {},
   "outputs": [],
   "source": [
    "#Auxiliary function\n",
    "def jl_to_list2(fname):\n",
    "    output = []\n",
    "    with gzip.open(fname, 'rb') as f:\n",
    "        for line in f:     \n",
    "            output.append(list(np.unique(np.array([event['event_info'] for event in json.loads(line)['user_history'] if event['event_type'] != 'search']))))\n",
    "    return output\n",
    "\n",
    "#Auxiliary function\n",
    "def jl_to_list(fname):\n",
    "    output = []\n",
    "    with gzip.open(fname, 'rb') as f:\n",
    "        for line in f:\n",
    "            output.append(json.loads(line))\n",
    "    return output"
   ]
  },
  {
   "cell_type": "code",
   "execution_count": 3,
   "metadata": {},
   "outputs": [],
   "source": [
    "path = Path(\"data\")"
   ]
  },
  {
   "cell_type": "code",
   "execution_count": 4,
   "metadata": {},
   "outputs": [],
   "source": [
    "train_dataset = jl_to_list2(path/'train_dataset.jl.gz')"
   ]
  },
  {
   "source": [
    "item_data = jl_to_list(path/'item_data.jl.gz')\n",
    "metadata = {x['item_id']:x for x in item_data} #We create a dictionary to access easily access the item metadata\n",
    "all_items = list(metadata.keys())"
   ],
   "cell_type": "code",
   "metadata": {},
   "execution_count": null,
   "outputs": []
  },
  {
   "cell_type": "code",
   "execution_count": 52,
   "metadata": {},
   "outputs": [],
   "source": [
    "a = [x['domain_id'] for x in item_data]"
   ]
  },
  {
   "cell_type": "code",
   "execution_count": 56,
   "metadata": {},
   "outputs": [],
   "source": [
    "aa  = list(set(a))"
   ]
  },
  {
   "source": [
    "Mapeo dominio a ID"
   ],
   "cell_type": "markdown",
   "metadata": {}
  },
  {
   "cell_type": "code",
   "execution_count": 57,
   "metadata": {},
   "outputs": [],
   "source": [
    "domain2id = {aa[i]: i for i in range(len(aa))}"
   ]
  },
  {
   "cell_type": "code",
   "execution_count": 85,
   "metadata": {},
   "outputs": [],
   "source": [
    "id2domain = {i: aa[i] for i in range(len(aa))}"
   ]
  },
  {
   "cell_type": "code",
   "execution_count": 68,
   "metadata": {},
   "outputs": [],
   "source": [
    "domains_dataset = []\n",
    "for row in train_dataset:\n",
    "    aux = list(set([domain2id[metadata[x]['domain_id']] for x in row]))\n",
    "    if len(aux) > 1:\n",
    "        domains_dataset.append(aux)"
   ]
  },
  {
   "cell_type": "code",
   "execution_count": 84,
   "metadata": {},
   "outputs": [
    {
     "output_type": "execute_result",
     "data": {
      "text/plain": [
       "413163"
      ]
     },
     "metadata": {},
     "execution_count": 84
    }
   ],
   "source": [
    "len(train_dataset)"
   ]
  },
  {
   "source": [
    "## Preprocesamiento dataset para utilizar mlxtend"
   ],
   "cell_type": "markdown",
   "metadata": {}
  },
  {
   "cell_type": "code",
   "execution_count": 98,
   "metadata": {},
   "outputs": [],
   "source": [
    "te = TransactionEncoder()\n",
    "te_ary = te.fit(domains_dataset).transform(domains_dataset)\n",
    "df = pd.DataFrame(te_ary, columns=te.columns_)\n"
   ]
  },
  {
   "cell_type": "code",
   "execution_count": 99,
   "metadata": {},
   "outputs": [
    {
     "output_type": "execute_result",
     "data": {
      "text/plain": [
       "         0      1      2      3      4      5      6      7      8      9     \\\n",
       "0       False  False  False  False  False  False  False  False  False  False   \n",
       "1       False  False  False  False  False  False  False  False  False  False   \n",
       "2       False  False  False  False  False  False  False  False  False  False   \n",
       "3       False  False  False  False  False  False  False  False  False  False   \n",
       "4       False  False  False  False  False  False  False  False  False  False   \n",
       "...       ...    ...    ...    ...    ...    ...    ...    ...    ...    ...   \n",
       "253370  False  False  False  False  False  False  False  False  False  False   \n",
       "253371  False  False  False  False  False  False  False  False  False  False   \n",
       "253372  False  False  False  False  False  False  False  False  False  False   \n",
       "253373  False  False  False  False  False  False  False  False  False  False   \n",
       "253374  False  False  False  False  False  False  False  False  False  False   \n",
       "\n",
       "        ...   7882   7883   7884   7885   7888   7889   7890   7891   7892  \\\n",
       "0       ...  False  False  False  False  False  False  False  False  False   \n",
       "1       ...  False  False  False  False  False  False  False  False  False   \n",
       "2       ...  False  False  False  False  False  False  False  False  False   \n",
       "3       ...  False  False  False  False  False  False  False  False  False   \n",
       "4       ...  False  False  False  False  False  False  False  False  False   \n",
       "...     ...    ...    ...    ...    ...    ...    ...    ...    ...    ...   \n",
       "253370  ...  False  False  False  False  False  False  False  False  False   \n",
       "253371  ...  False  False  False  False  False  False  False  False  False   \n",
       "253372  ...  False  False  False  False  False  False  False  False  False   \n",
       "253373  ...  False  False  False  False  False  False  False  False  False   \n",
       "253374  ...  False  False  False  False  False  False  False  False  False   \n",
       "\n",
       "         7893  \n",
       "0       False  \n",
       "1       False  \n",
       "2       False  \n",
       "3       False  \n",
       "4       False  \n",
       "...       ...  \n",
       "253370  False  \n",
       "253371  False  \n",
       "253372  False  \n",
       "253373  False  \n",
       "253374  False  \n",
       "\n",
       "[253375 rows x 7667 columns]"
      ],
      "text/html": "<div>\n<style scoped>\n    .dataframe tbody tr th:only-of-type {\n        vertical-align: middle;\n    }\n\n    .dataframe tbody tr th {\n        vertical-align: top;\n    }\n\n    .dataframe thead th {\n        text-align: right;\n    }\n</style>\n<table border=\"1\" class=\"dataframe\">\n  <thead>\n    <tr style=\"text-align: right;\">\n      <th></th>\n      <th>0</th>\n      <th>1</th>\n      <th>2</th>\n      <th>3</th>\n      <th>4</th>\n      <th>5</th>\n      <th>6</th>\n      <th>7</th>\n      <th>8</th>\n      <th>9</th>\n      <th>...</th>\n      <th>7882</th>\n      <th>7883</th>\n      <th>7884</th>\n      <th>7885</th>\n      <th>7888</th>\n      <th>7889</th>\n      <th>7890</th>\n      <th>7891</th>\n      <th>7892</th>\n      <th>7893</th>\n    </tr>\n  </thead>\n  <tbody>\n    <tr>\n      <th>0</th>\n      <td>False</td>\n      <td>False</td>\n      <td>False</td>\n      <td>False</td>\n      <td>False</td>\n      <td>False</td>\n      <td>False</td>\n      <td>False</td>\n      <td>False</td>\n      <td>False</td>\n      <td>...</td>\n      <td>False</td>\n      <td>False</td>\n      <td>False</td>\n      <td>False</td>\n      <td>False</td>\n      <td>False</td>\n      <td>False</td>\n      <td>False</td>\n      <td>False</td>\n      <td>False</td>\n    </tr>\n    <tr>\n      <th>1</th>\n      <td>False</td>\n      <td>False</td>\n      <td>False</td>\n      <td>False</td>\n      <td>False</td>\n      <td>False</td>\n      <td>False</td>\n      <td>False</td>\n      <td>False</td>\n      <td>False</td>\n      <td>...</td>\n      <td>False</td>\n      <td>False</td>\n      <td>False</td>\n      <td>False</td>\n      <td>False</td>\n      <td>False</td>\n      <td>False</td>\n      <td>False</td>\n      <td>False</td>\n      <td>False</td>\n    </tr>\n    <tr>\n      <th>2</th>\n      <td>False</td>\n      <td>False</td>\n      <td>False</td>\n      <td>False</td>\n      <td>False</td>\n      <td>False</td>\n      <td>False</td>\n      <td>False</td>\n      <td>False</td>\n      <td>False</td>\n      <td>...</td>\n      <td>False</td>\n      <td>False</td>\n      <td>False</td>\n      <td>False</td>\n      <td>False</td>\n      <td>False</td>\n      <td>False</td>\n      <td>False</td>\n      <td>False</td>\n      <td>False</td>\n    </tr>\n    <tr>\n      <th>3</th>\n      <td>False</td>\n      <td>False</td>\n      <td>False</td>\n      <td>False</td>\n      <td>False</td>\n      <td>False</td>\n      <td>False</td>\n      <td>False</td>\n      <td>False</td>\n      <td>False</td>\n      <td>...</td>\n      <td>False</td>\n      <td>False</td>\n      <td>False</td>\n      <td>False</td>\n      <td>False</td>\n      <td>False</td>\n      <td>False</td>\n      <td>False</td>\n      <td>False</td>\n      <td>False</td>\n    </tr>\n    <tr>\n      <th>4</th>\n      <td>False</td>\n      <td>False</td>\n      <td>False</td>\n      <td>False</td>\n      <td>False</td>\n      <td>False</td>\n      <td>False</td>\n      <td>False</td>\n      <td>False</td>\n      <td>False</td>\n      <td>...</td>\n      <td>False</td>\n      <td>False</td>\n      <td>False</td>\n      <td>False</td>\n      <td>False</td>\n      <td>False</td>\n      <td>False</td>\n      <td>False</td>\n      <td>False</td>\n      <td>False</td>\n    </tr>\n    <tr>\n      <th>...</th>\n      <td>...</td>\n      <td>...</td>\n      <td>...</td>\n      <td>...</td>\n      <td>...</td>\n      <td>...</td>\n      <td>...</td>\n      <td>...</td>\n      <td>...</td>\n      <td>...</td>\n      <td>...</td>\n      <td>...</td>\n      <td>...</td>\n      <td>...</td>\n      <td>...</td>\n      <td>...</td>\n      <td>...</td>\n      <td>...</td>\n      <td>...</td>\n      <td>...</td>\n      <td>...</td>\n    </tr>\n    <tr>\n      <th>253370</th>\n      <td>False</td>\n      <td>False</td>\n      <td>False</td>\n      <td>False</td>\n      <td>False</td>\n      <td>False</td>\n      <td>False</td>\n      <td>False</td>\n      <td>False</td>\n      <td>False</td>\n      <td>...</td>\n      <td>False</td>\n      <td>False</td>\n      <td>False</td>\n      <td>False</td>\n      <td>False</td>\n      <td>False</td>\n      <td>False</td>\n      <td>False</td>\n      <td>False</td>\n      <td>False</td>\n    </tr>\n    <tr>\n      <th>253371</th>\n      <td>False</td>\n      <td>False</td>\n      <td>False</td>\n      <td>False</td>\n      <td>False</td>\n      <td>False</td>\n      <td>False</td>\n      <td>False</td>\n      <td>False</td>\n      <td>False</td>\n      <td>...</td>\n      <td>False</td>\n      <td>False</td>\n      <td>False</td>\n      <td>False</td>\n      <td>False</td>\n      <td>False</td>\n      <td>False</td>\n      <td>False</td>\n      <td>False</td>\n      <td>False</td>\n    </tr>\n    <tr>\n      <th>253372</th>\n      <td>False</td>\n      <td>False</td>\n      <td>False</td>\n      <td>False</td>\n      <td>False</td>\n      <td>False</td>\n      <td>False</td>\n      <td>False</td>\n      <td>False</td>\n      <td>False</td>\n      <td>...</td>\n      <td>False</td>\n      <td>False</td>\n      <td>False</td>\n      <td>False</td>\n      <td>False</td>\n      <td>False</td>\n      <td>False</td>\n      <td>False</td>\n      <td>False</td>\n      <td>False</td>\n    </tr>\n    <tr>\n      <th>253373</th>\n      <td>False</td>\n      <td>False</td>\n      <td>False</td>\n      <td>False</td>\n      <td>False</td>\n      <td>False</td>\n      <td>False</td>\n      <td>False</td>\n      <td>False</td>\n      <td>False</td>\n      <td>...</td>\n      <td>False</td>\n      <td>False</td>\n      <td>False</td>\n      <td>False</td>\n      <td>False</td>\n      <td>False</td>\n      <td>False</td>\n      <td>False</td>\n      <td>False</td>\n      <td>False</td>\n    </tr>\n    <tr>\n      <th>253374</th>\n      <td>False</td>\n      <td>False</td>\n      <td>False</td>\n      <td>False</td>\n      <td>False</td>\n      <td>False</td>\n      <td>False</td>\n      <td>False</td>\n      <td>False</td>\n      <td>False</td>\n      <td>...</td>\n      <td>False</td>\n      <td>False</td>\n      <td>False</td>\n      <td>False</td>\n      <td>False</td>\n      <td>False</td>\n      <td>False</td>\n      <td>False</td>\n      <td>False</td>\n      <td>False</td>\n    </tr>\n  </tbody>\n</table>\n<p>253375 rows × 7667 columns</p>\n</div>"
     },
     "metadata": {},
     "execution_count": 99
    }
   ],
   "source": [
    "df"
   ]
  },
  {
   "cell_type": "code",
   "execution_count": 100,
   "metadata": {},
   "outputs": [],
   "source": [
    "from mlxtend.frequent_patterns import fpgrowth\n",
    "from mlxtend.frequent_patterns import association_rules"
   ]
  },
  {
   "source": [
    "## FPGrowth"
   ],
   "cell_type": "markdown",
   "metadata": {}
  },
  {
   "source": [
    "Se observa que la cantidad de soporte mínimo para lograr obtener itemsets frecuentes es muy baja"
   ],
   "cell_type": "markdown",
   "metadata": {}
  },
  {
   "cell_type": "code",
   "execution_count": 101,
   "metadata": {},
   "outputs": [],
   "source": [
    "frequent_itemsets = fpgrowth(df, min_support=0.001)"
   ]
  },
  {
   "cell_type": "code",
   "execution_count": 102,
   "metadata": {},
   "outputs": [
    {
     "output_type": "execute_result",
     "data": {
      "text/plain": [
       "       support      itemsets\n",
       "0     0.003363         (692)\n",
       "1     0.013664         (241)\n",
       "2     0.001318        (1667)\n",
       "3     0.037202        (2234)\n",
       "4     0.036783        (2230)\n",
       "...        ...           ...\n",
       "1703  0.001121  (5190, 1543)\n",
       "1704  0.001066  (2663, 7279)\n",
       "1705  0.001160  (2599, 2983)\n",
       "1706  0.001145  (2979, 2599)\n",
       "1707  0.001385  (6917, 2599)\n",
       "\n",
       "[1708 rows x 2 columns]"
      ],
      "text/html": "<div>\n<style scoped>\n    .dataframe tbody tr th:only-of-type {\n        vertical-align: middle;\n    }\n\n    .dataframe tbody tr th {\n        vertical-align: top;\n    }\n\n    .dataframe thead th {\n        text-align: right;\n    }\n</style>\n<table border=\"1\" class=\"dataframe\">\n  <thead>\n    <tr style=\"text-align: right;\">\n      <th></th>\n      <th>support</th>\n      <th>itemsets</th>\n    </tr>\n  </thead>\n  <tbody>\n    <tr>\n      <th>0</th>\n      <td>0.003363</td>\n      <td>(692)</td>\n    </tr>\n    <tr>\n      <th>1</th>\n      <td>0.013664</td>\n      <td>(241)</td>\n    </tr>\n    <tr>\n      <th>2</th>\n      <td>0.001318</td>\n      <td>(1667)</td>\n    </tr>\n    <tr>\n      <th>3</th>\n      <td>0.037202</td>\n      <td>(2234)</td>\n    </tr>\n    <tr>\n      <th>4</th>\n      <td>0.036783</td>\n      <td>(2230)</td>\n    </tr>\n    <tr>\n      <th>...</th>\n      <td>...</td>\n      <td>...</td>\n    </tr>\n    <tr>\n      <th>1703</th>\n      <td>0.001121</td>\n      <td>(5190, 1543)</td>\n    </tr>\n    <tr>\n      <th>1704</th>\n      <td>0.001066</td>\n      <td>(2663, 7279)</td>\n    </tr>\n    <tr>\n      <th>1705</th>\n      <td>0.001160</td>\n      <td>(2599, 2983)</td>\n    </tr>\n    <tr>\n      <th>1706</th>\n      <td>0.001145</td>\n      <td>(2979, 2599)</td>\n    </tr>\n    <tr>\n      <th>1707</th>\n      <td>0.001385</td>\n      <td>(6917, 2599)</td>\n    </tr>\n  </tbody>\n</table>\n<p>1708 rows × 2 columns</p>\n</div>"
     },
     "metadata": {},
     "execution_count": 102
    }
   ],
   "source": [
    "frequent_itemsets"
   ]
  },
  {
   "source": [
    "## Reglas de asociación"
   ],
   "cell_type": "markdown",
   "metadata": {}
  },
  {
   "cell_type": "code",
   "execution_count": 131,
   "metadata": {},
   "outputs": [],
   "source": [
    "rules = association_rules(frequent_itemsets, metric=\"support\", min_threshold=0.01).sort_values(by=['lift'], ascending=False)"
   ]
  },
  {
   "source": [
    "Se aprecia que el soporte de las reglas es extremadamente bajo. No es útil seguir este camino ya que otras opciones más simples como utilizar los dominios ya vistos por el usuario sabemos que funcionan bastante bien dado los scores obtenidos con los baselines de dominio más visitado."
   ],
   "cell_type": "markdown",
   "metadata": {}
  },
  {
   "source": [
    "Muchas reglas son redundantes/circulares"
   ],
   "cell_type": "markdown",
   "metadata": {}
  },
  {
   "cell_type": "code",
   "execution_count": 132,
   "metadata": {},
   "outputs": [
    {
     "output_type": "execute_result",
     "data": {
      "text/plain": [
       "   antecedents consequents  antecedent support  consequent support   support  \\\n",
       "1       (5991)      (5586)            0.029340            0.050636  0.011051   \n",
       "0       (5586)      (5991)            0.050636            0.029340  0.011051   \n",
       "6       (6963)      (2599)            0.033014            0.052854  0.010664   \n",
       "7       (2599)      (6963)            0.052854            0.033014  0.010664   \n",
       "14      (5586)       (589)            0.050636            0.037904  0.011114   \n",
       "15       (589)      (5586)            0.037904            0.050636  0.011114   \n",
       "17      (2290)      (3962)            0.078804            0.024493  0.010143   \n",
       "16      (3962)      (2290)            0.024493            0.078804  0.010143   \n",
       "11      (1541)      (3555)            0.024884            0.111396  0.013719   \n",
       "10      (3555)      (1541)            0.111396            0.024884  0.013719   \n",
       "4       (2290)      (2814)            0.078804            0.028633  0.010530   \n",
       "5       (2814)      (2290)            0.028633            0.078804  0.010530   \n",
       "12      (2290)       (589)            0.078804            0.037904  0.012495   \n",
       "13       (589)      (2290)            0.037904            0.078804  0.012495   \n",
       "3       (2290)      (5586)            0.078804            0.050636  0.011252   \n",
       "2       (5586)      (2290)            0.050636            0.078804  0.011252   \n",
       "8       (2290)      (3555)            0.078804            0.111396  0.011710   \n",
       "9       (3555)      (2290)            0.111396            0.078804  0.011710   \n",
       "\n",
       "    confidence      lift  leverage  conviction  \n",
       "1     0.376648  7.438281  0.009565    1.522997  \n",
       "0     0.218239  7.438281  0.009565    1.241632  \n",
       "6     0.323013  6.111358  0.008919    1.399059  \n",
       "7     0.201762  6.111358  0.008919    1.211401  \n",
       "14    0.219486  5.790521  0.009195    1.232643  \n",
       "15    0.293211  5.790521  0.009195    1.343207  \n",
       "17    0.128712  5.254995  0.008213    1.119615  \n",
       "16    0.414115  5.254995  0.008213    1.572316  \n",
       "11    0.551308  4.949080  0.010947    1.980434  \n",
       "10    0.123153  4.949080  0.010947    1.112071  \n",
       "4     0.133620  4.666587  0.008273    1.121179  \n",
       "5     0.367746  4.666587  0.008273    1.457004  \n",
       "12    0.158562  4.183210  0.009508    1.143394  \n",
       "13    0.329654  4.183210  0.009508    1.374210  \n",
       "3     0.142786  2.819821  0.007262    1.107498  \n",
       "2     0.222214  2.819821  0.007262    1.184381  \n",
       "8     0.148595  1.333935  0.002931    1.043691  \n",
       "9     0.105120  1.333935  0.002931    1.029407  "
      ],
      "text/html": "<div>\n<style scoped>\n    .dataframe tbody tr th:only-of-type {\n        vertical-align: middle;\n    }\n\n    .dataframe tbody tr th {\n        vertical-align: top;\n    }\n\n    .dataframe thead th {\n        text-align: right;\n    }\n</style>\n<table border=\"1\" class=\"dataframe\">\n  <thead>\n    <tr style=\"text-align: right;\">\n      <th></th>\n      <th>antecedents</th>\n      <th>consequents</th>\n      <th>antecedent support</th>\n      <th>consequent support</th>\n      <th>support</th>\n      <th>confidence</th>\n      <th>lift</th>\n      <th>leverage</th>\n      <th>conviction</th>\n    </tr>\n  </thead>\n  <tbody>\n    <tr>\n      <th>1</th>\n      <td>(5991)</td>\n      <td>(5586)</td>\n      <td>0.029340</td>\n      <td>0.050636</td>\n      <td>0.011051</td>\n      <td>0.376648</td>\n      <td>7.438281</td>\n      <td>0.009565</td>\n      <td>1.522997</td>\n    </tr>\n    <tr>\n      <th>0</th>\n      <td>(5586)</td>\n      <td>(5991)</td>\n      <td>0.050636</td>\n      <td>0.029340</td>\n      <td>0.011051</td>\n      <td>0.218239</td>\n      <td>7.438281</td>\n      <td>0.009565</td>\n      <td>1.241632</td>\n    </tr>\n    <tr>\n      <th>6</th>\n      <td>(6963)</td>\n      <td>(2599)</td>\n      <td>0.033014</td>\n      <td>0.052854</td>\n      <td>0.010664</td>\n      <td>0.323013</td>\n      <td>6.111358</td>\n      <td>0.008919</td>\n      <td>1.399059</td>\n    </tr>\n    <tr>\n      <th>7</th>\n      <td>(2599)</td>\n      <td>(6963)</td>\n      <td>0.052854</td>\n      <td>0.033014</td>\n      <td>0.010664</td>\n      <td>0.201762</td>\n      <td>6.111358</td>\n      <td>0.008919</td>\n      <td>1.211401</td>\n    </tr>\n    <tr>\n      <th>14</th>\n      <td>(5586)</td>\n      <td>(589)</td>\n      <td>0.050636</td>\n      <td>0.037904</td>\n      <td>0.011114</td>\n      <td>0.219486</td>\n      <td>5.790521</td>\n      <td>0.009195</td>\n      <td>1.232643</td>\n    </tr>\n    <tr>\n      <th>15</th>\n      <td>(589)</td>\n      <td>(5586)</td>\n      <td>0.037904</td>\n      <td>0.050636</td>\n      <td>0.011114</td>\n      <td>0.293211</td>\n      <td>5.790521</td>\n      <td>0.009195</td>\n      <td>1.343207</td>\n    </tr>\n    <tr>\n      <th>17</th>\n      <td>(2290)</td>\n      <td>(3962)</td>\n      <td>0.078804</td>\n      <td>0.024493</td>\n      <td>0.010143</td>\n      <td>0.128712</td>\n      <td>5.254995</td>\n      <td>0.008213</td>\n      <td>1.119615</td>\n    </tr>\n    <tr>\n      <th>16</th>\n      <td>(3962)</td>\n      <td>(2290)</td>\n      <td>0.024493</td>\n      <td>0.078804</td>\n      <td>0.010143</td>\n      <td>0.414115</td>\n      <td>5.254995</td>\n      <td>0.008213</td>\n      <td>1.572316</td>\n    </tr>\n    <tr>\n      <th>11</th>\n      <td>(1541)</td>\n      <td>(3555)</td>\n      <td>0.024884</td>\n      <td>0.111396</td>\n      <td>0.013719</td>\n      <td>0.551308</td>\n      <td>4.949080</td>\n      <td>0.010947</td>\n      <td>1.980434</td>\n    </tr>\n    <tr>\n      <th>10</th>\n      <td>(3555)</td>\n      <td>(1541)</td>\n      <td>0.111396</td>\n      <td>0.024884</td>\n      <td>0.013719</td>\n      <td>0.123153</td>\n      <td>4.949080</td>\n      <td>0.010947</td>\n      <td>1.112071</td>\n    </tr>\n    <tr>\n      <th>4</th>\n      <td>(2290)</td>\n      <td>(2814)</td>\n      <td>0.078804</td>\n      <td>0.028633</td>\n      <td>0.010530</td>\n      <td>0.133620</td>\n      <td>4.666587</td>\n      <td>0.008273</td>\n      <td>1.121179</td>\n    </tr>\n    <tr>\n      <th>5</th>\n      <td>(2814)</td>\n      <td>(2290)</td>\n      <td>0.028633</td>\n      <td>0.078804</td>\n      <td>0.010530</td>\n      <td>0.367746</td>\n      <td>4.666587</td>\n      <td>0.008273</td>\n      <td>1.457004</td>\n    </tr>\n    <tr>\n      <th>12</th>\n      <td>(2290)</td>\n      <td>(589)</td>\n      <td>0.078804</td>\n      <td>0.037904</td>\n      <td>0.012495</td>\n      <td>0.158562</td>\n      <td>4.183210</td>\n      <td>0.009508</td>\n      <td>1.143394</td>\n    </tr>\n    <tr>\n      <th>13</th>\n      <td>(589)</td>\n      <td>(2290)</td>\n      <td>0.037904</td>\n      <td>0.078804</td>\n      <td>0.012495</td>\n      <td>0.329654</td>\n      <td>4.183210</td>\n      <td>0.009508</td>\n      <td>1.374210</td>\n    </tr>\n    <tr>\n      <th>3</th>\n      <td>(2290)</td>\n      <td>(5586)</td>\n      <td>0.078804</td>\n      <td>0.050636</td>\n      <td>0.011252</td>\n      <td>0.142786</td>\n      <td>2.819821</td>\n      <td>0.007262</td>\n      <td>1.107498</td>\n    </tr>\n    <tr>\n      <th>2</th>\n      <td>(5586)</td>\n      <td>(2290)</td>\n      <td>0.050636</td>\n      <td>0.078804</td>\n      <td>0.011252</td>\n      <td>0.222214</td>\n      <td>2.819821</td>\n      <td>0.007262</td>\n      <td>1.184381</td>\n    </tr>\n    <tr>\n      <th>8</th>\n      <td>(2290)</td>\n      <td>(3555)</td>\n      <td>0.078804</td>\n      <td>0.111396</td>\n      <td>0.011710</td>\n      <td>0.148595</td>\n      <td>1.333935</td>\n      <td>0.002931</td>\n      <td>1.043691</td>\n    </tr>\n    <tr>\n      <th>9</th>\n      <td>(3555)</td>\n      <td>(2290)</td>\n      <td>0.111396</td>\n      <td>0.078804</td>\n      <td>0.011710</td>\n      <td>0.105120</td>\n      <td>1.333935</td>\n      <td>0.002931</td>\n      <td>1.029407</td>\n    </tr>\n  </tbody>\n</table>\n</div>"
     },
     "metadata": {},
     "execution_count": 132
    }
   ],
   "source": [
    "rules"
   ]
  },
  {
   "cell_type": "code",
   "execution_count": 133,
   "metadata": {},
   "outputs": [],
   "source": [
    "def show_rules(antecedent, consequent):\n",
    "    print(id2domain[antecedent], '--->', id2domain[consequent])"
   ]
  },
  {
   "source": [
    "Ejemplos de reglas obtenidas"
   ],
   "cell_type": "markdown",
   "metadata": {}
  },
  {
   "cell_type": "code",
   "execution_count": 134,
   "metadata": {},
   "outputs": [
    {
     "output_type": "stream",
     "name": "stdout",
     "text": [
      "MLB-CATS_AND_DOGS_FOODS ---> MLM-RADIO_FREQUENCY_MACHINES\nMLM-RADIO_FREQUENCY_MACHINES ---> MLB-CATS_AND_DOGS_FOODS\nMLB-MOTORCYCLE_HANDLEBAR_YOKES ---> MLM-TELESCOPIC_POST_SHORES\nMLM-TELESCOPIC_POST_SHORES ---> MLB-MOTORCYCLE_HANDLEBAR_YOKES\nMLM-RADIO_FREQUENCY_MACHINES ---> MLM-PH_METERS\nMLM-PH_METERS ---> MLM-RADIO_FREQUENCY_MACHINES\nMLB-BUBBLE_LEVELS ---> MLB-PHOTOGRAPHS\nMLB-PHOTOGRAPHS ---> MLB-BUBBLE_LEVELS\nMLB-SEWING_MACHINE_PRESSER_FEET ---> MLB-SIDE_TABLES\nMLB-SIDE_TABLES ---> MLB-SEWING_MACHINE_PRESSER_FEET\nMLB-BUBBLE_LEVELS ---> MLB-FISHING_REELS\nMLB-FISHING_REELS ---> MLB-BUBBLE_LEVELS\nMLB-BUBBLE_LEVELS ---> MLM-PH_METERS\nMLM-PH_METERS ---> MLB-BUBBLE_LEVELS\nMLB-BUBBLE_LEVELS ---> MLM-RADIO_FREQUENCY_MACHINES\nMLM-RADIO_FREQUENCY_MACHINES ---> MLB-BUBBLE_LEVELS\nMLB-BUBBLE_LEVELS ---> MLB-SIDE_TABLES\nMLB-SIDE_TABLES ---> MLB-BUBBLE_LEVELS\n"
     ]
    }
   ],
   "source": [
    "for index, row in rules.iterrows():\n",
    "    show_rules(list(row['antecedents'])[0], list(row['consequents'])[0])"
   ]
  }
 ]
}