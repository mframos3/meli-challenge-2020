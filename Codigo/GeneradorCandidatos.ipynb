{
 "metadata": {
  "language_info": {
   "codemirror_mode": {
    "name": "ipython",
    "version": 3
   },
   "file_extension": ".py",
   "mimetype": "text/x-python",
   "name": "python",
   "nbconvert_exporter": "python",
   "pygments_lexer": "ipython3",
   "version": "3.8.5-final"
  },
  "orig_nbformat": 2,
  "kernelspec": {
   "name": "python3",
   "display_name": "Python 3.8.5 64-bit",
   "metadata": {
    "interpreter": {
     "hash": "082e9a3bcad0a290d0001e938aa60b99250c6c2ef33a923c00b70f9826caf4b7"
    }
   }
  }
 },
 "nbformat": 4,
 "nbformat_minor": 2,
 "cells": [
  {
   "source": [
    "# Candidate Generator"
   ],
   "cell_type": "markdown",
   "metadata": {}
  },
  {
   "cell_type": "code",
   "execution_count": 1,
   "metadata": {},
   "outputs": [],
   "source": [
    "#Import modules\n",
    "import gzip\n",
    "import json\n",
    "import gc\n",
    "import math\n",
    "import random\n",
    "import numpy as np\n",
    "from collections import Counter, defaultdict\n",
    "from tqdm import tqdm\n",
    "from pathlib import Path\n",
    "from sklearn.model_selection import train_test_split"
   ]
  },
  {
   "cell_type": "code",
   "execution_count": 3,
   "metadata": {},
   "outputs": [],
   "source": [
    "import pickle\n",
    "\n",
    "with open(\"reindex.pkl\", 'rb') as f:\n",
    "    reindex = pickle.load(f)"
   ]
  },
  {
   "source": [
    "## Carga de datos"
   ],
   "cell_type": "markdown",
   "metadata": {}
  },
  {
   "cell_type": "code",
   "execution_count": 4,
   "metadata": {},
   "outputs": [],
   "source": [
    "#Auxiliary function\n",
    "def jl_to_list(fname):\n",
    "    output = []\n",
    "    with gzip.open(fname, 'rb') as f:\n",
    "        for line in f:\n",
    "            output.append(json.loads(line))\n",
    "    return output"
   ]
  },
  {
   "cell_type": "code",
   "execution_count": 5,
   "metadata": {},
   "outputs": [],
   "source": [
    "path = Path('data')"
   ]
  },
  {
   "cell_type": "code",
   "execution_count": 4,
   "metadata": {},
   "outputs": [],
   "source": [
    "rows = jl_to_list(path/'train_dataset.jl.gz')\n",
    "    \n",
    "rows_train, rows_test= train_test_split(rows, test_size=0.2, random_state=42)"
   ]
  },
  {
   "cell_type": "code",
   "execution_count": 6,
   "metadata": {},
   "outputs": [],
   "source": [
    "rows_train = jl_to_list(path/'train_dataset.jl.gz')\n",
    "rows_test = jl_to_list(path/'test_dataset.jl.gz')"
   ]
  },
  {
   "cell_type": "code",
   "execution_count": 7,
   "metadata": {},
   "outputs": [],
   "source": [
    "item_data = jl_to_list(path/'item_data.jl.gz')\n",
    "metadata = {x['item_id']:x for x in item_data} #We create a dictionary to access easily access the item metadata\n",
    "all_items = list(metadata.keys())"
   ]
  },
  {
   "cell_type": "code",
   "execution_count": 9,
   "metadata": {},
   "outputs": [],
   "source": [
    "del rows"
   ]
  },
  {
   "source": [
    "## Métrica de NDCG@10 máximo obtenible"
   ],
   "cell_type": "markdown",
   "metadata": {}
  },
  {
   "source": [
    "Esta métrica indica el NCDG@10 máximo que se puede obtener con los candidatos generados"
   ],
   "cell_type": "markdown",
   "metadata": {}
  },
  {
   "cell_type": "code",
   "execution_count": 8,
   "metadata": {},
   "outputs": [],
   "source": [
    "def custom_score(y_true, y_pred, metadata):\n",
    "    ndcg_sum = 0\n",
    "    idcg = 12 + sum([(1 / np.log2(1 + i)) for i in range(2, 11) ])\n",
    "    for i in tqdm(range(len(y_pred))):\n",
    "        dcg = 0\n",
    "        domain = metadata[y_true[i]]['domain_id']  \n",
    "        if y_true[i] in y_pred[i]:\n",
    "            dcg += 12 \n",
    "            domain_hits = len([x for x in y_pred[i] if metadata[x]['domain_id'] == domain]) - 1\n",
    "            dcg += sum([(1 / np.log2(1 + i)) for i in range(2, min(domain_hits + 3, 11)) ])\n",
    "        else:\n",
    "            domain_hits = len([x for x in y_pred[i] if metadata[x]['domain_id'] == domain])\n",
    "            dcg += sum([(1 / np.log2(1 + i)) for i in range(1, min(domain_hits + 1, 11))])\n",
    "        ndcg_sum += (dcg / idcg)\n",
    "    return ndcg_sum / len(y_pred)"
   ]
  },
  {
   "source": [
    "## Funciones y cargas de diccionarios para los tres baselines"
   ],
   "cell_type": "markdown",
   "metadata": {}
  },
  {
   "cell_type": "code",
   "execution_count": 9,
   "metadata": {},
   "outputs": [],
   "source": [
    "def last_viewed(row):\n",
    "    viewed = [ev for ev in row['user_history'] if ev['event_type']=='view']\n",
    "    viewed = [ev['event_info'] for ev in viewed]\n",
    "    recom = []\n",
    "    for item in viewed:\n",
    "        if item not in recom and reindex[item] != -1:\n",
    "            recom.append(item)\n",
    "    if len(recom) > 100:\n",
    "        recom = recom[:100]\n",
    "    return recom\n"
   ]
  },
  {
   "cell_type": "code",
   "execution_count": 10,
   "metadata": {},
   "outputs": [
    {
     "output_type": "stream",
     "name": "stderr",
     "text": [
      "100%|██████████| 413163/413163 [00:19<00:00, 20858.01it/s]\n"
     ]
    }
   ],
   "source": [
    "views_purchases = defaultdict(lambda: defaultdict(int))\n",
    "for row in tqdm(rows_train):\n",
    "    for ev in row['user_history']:\n",
    "        if ev['event_type']=='view':\n",
    "            views_purchases[int(ev['event_info'])][int(row['item_bought'])]+=1"
   ]
  },
  {
   "cell_type": "code",
   "execution_count": 11,
   "metadata": {},
   "outputs": [],
   "source": [
    "def get_item_scores(row):\n",
    "    \"\"\"\n",
    "    Given a user history (row) returns a counter of the items purchased \n",
    "    for the items viewed by the user\n",
    "    \"\"\"\n",
    "    item_scores = defaultdict(int)\n",
    "    for ev in row['user_history']:\n",
    "        if ev['event_type']=='view':\n",
    "            for k,v in views_purchases[int(ev['event_info'])].items():\n",
    "                item_scores[k]+=v\n",
    "\n",
    "    return Counter(item_scores)"
   ]
  },
  {
   "cell_type": "code",
   "execution_count": 12,
   "metadata": {},
   "outputs": [],
   "source": [
    "def domains_visited(row, max_views=30):\n",
    "    \"\"\"\n",
    "    For a given user story (row), returns a Counter \n",
    "    of the domains visited by the user.\n",
    "    \"\"\"\n",
    "    \n",
    "    domains = Counter()\n",
    "    \n",
    "    viewed = [ev['event_info'] for ev in row['user_history'] \n",
    "              if ev['event_type']=='view']\n",
    "    \n",
    "    if len(viewed) > max_views:\n",
    "        viewed = viewed[:15]\n",
    "        \n",
    "    for item in viewed:\n",
    "        domain = metadata[item]['domain_id']\n",
    "        domains[domain] += 1\n",
    "        \n",
    "    return domains"
   ]
  },
  {
   "cell_type": "code",
   "execution_count": 13,
   "metadata": {},
   "outputs": [],
   "source": [
    "def top_items(domain):\n",
    "    \"\"\"\n",
    "    Given the sales_x_domain info and a certain domain, \n",
    "    returns the top k selling items in that domain.\n",
    "    \"\"\"\n",
    "    \n",
    "    top = sales_x_domain[domain]\n",
    "    top = Counter(top)\n",
    "    top = top.most_common()\n",
    "    return [x[0] for x in top]"
   ]
  },
  {
   "cell_type": "code",
   "execution_count": 14,
   "metadata": {},
   "outputs": [
    {
     "output_type": "stream",
     "name": "stderr",
     "text": [
      "100%|██████████| 413163/413163 [00:01<00:00, 288501.49it/s]\n"
     ]
    }
   ],
   "source": [
    "sales_x_domain = defaultdict(lambda: defaultdict(int))\n",
    "\n",
    "for row in tqdm(rows_train):\n",
    "    #viewed = [ev['event_info'] for ev in row['user_history'] if ev['event_type']=='view']\n",
    "    items = [row['item_bought']]\n",
    "    for item in items:\n",
    "        domain = metadata[item]['domain_id']\n",
    "        sales_x_domain[domain][item]+=1"
   ]
  },
  {
   "source": [
    "## Ensambles"
   ],
   "cell_type": "markdown",
   "metadata": {}
  },
  {
   "source": [
    "Este ensamble al llegar a utilizar último baseline (seleccionar ítems más populares del dominio más visitado), va seleccionando en 'profundidad' (DF) los items por dominio. Es decir, comienza con el dominio más popular y selecciona sus ítems desde el más popular al menos popular. Solo cuando se acaban los ítems de ese dominio se continúa a seleccionar ítems del segundo dominio más popular y asi sucesivamente hasta completar las recomendaciones. Este approach fue el utilizado ya que localmente dio mejores resultados en relación al segundo método que se muestra a continuación."
   ],
   "cell_type": "markdown",
   "metadata": {}
  },
  {
   "cell_type": "code",
   "execution_count": 15,
   "metadata": {},
   "outputs": [],
   "source": [
    "def get_recs_df(row, l):\n",
    "    # Baseline 1: últimos visitados\n",
    "    recom = last_viewed(row)\n",
    "    # Baseline 2: dict view - purchases\n",
    "    scores = get_item_scores(row)\n",
    "    most_common = scores.most_common()\n",
    "    for item, score in most_common:\n",
    "        if item not in recom and reindex[item] != -1:\n",
    "            recom.append(item)\n",
    "        if len(recom) == l:\n",
    "            return recom\n",
    "    # Baseline 3: dominio más popular\n",
    "    views = [ev['event_info'] for ev in row['user_history'] if ev['event_type']=='view']\n",
    "    if len(views) == 0:\n",
    "        return random.choices(all_items, k=l)\n",
    "    most_common_domains = domains_visited(row).most_common()\n",
    "    for domain, score in most_common_domains:\n",
    "        for item in top_items(domain):\n",
    "            if item not in recom and reindex[item] != -1:\n",
    "                recom.append(item)\n",
    "        if len(recom) == l:\n",
    "            return recom\n",
    "    # random \n",
    "    if len(recom) < l:\n",
    "        k = l - len(recom)\n",
    "        recom += random.choices(all_items, k=k)\n",
    "    return recom\n"
   ]
  },
  {
   "source": [
    "Este approach va seleccionando en 'amplitud' cuando se llega al baseline de dominio. Dado un valor de step, se toman los 5 top ítems del dominio más popular, despues los 5 ítems del segundo dominio más popular y asi sucesivamente hasta pasar por todos los dominios. Despues continua con los siguientes 5."
   ],
   "cell_type": "markdown",
   "metadata": {}
  },
  {
   "cell_type": "code",
   "execution_count": 14,
   "metadata": {},
   "outputs": [],
   "source": [
    "def get_recs_bf(row, step=10, n_domains=3):\n",
    "    # Baseline 1: últimos visitados\n",
    "    recom = last_viewed(row)\n",
    "    # Baseline 2: dict view - purchases\n",
    "    scores = get_item_scores(row)\n",
    "    most_common = scores.most_common()\n",
    "    for item, score in most_common:\n",
    "        if item not in recom and reindex[item] != -1:\n",
    "            recom.append(item)\n",
    "        if len(recom) == 100:\n",
    "            return recom\n",
    "    # Baseline 3: dominio más popular\n",
    "    views = [ev['event_info'] for ev in row['user_history'] if ev['event_type']=='view']\n",
    "    if len(views) == 0:\n",
    "        return random.choices(all_items, k=100)\n",
    "    most_common_domains = domains_visited(row).most_common(n_domains)\n",
    "    for k in range(0, 100, step):\n",
    "        for domain, score in most_common_domains:\n",
    "            items = top_items(domain)\n",
    "            if len(items) >= k + step:\n",
    "                for item in items[k:k + step]:\n",
    "                    if item not in recom and reindex[item] != -1:\n",
    "                        recom.append(item)\n",
    "            elif len(items) >= k + 5 and len(items) >= k:\n",
    "                for item in items[k:]:\n",
    "                    if item not in recom and reindex[item] != -1:\n",
    "                        recom.append(item)\n",
    "            if len(recom) == 100:\n",
    "                return recom\n",
    "    # random\n",
    "    if len(recom) < 100:\n",
    "        k = 100 - len(recom)\n",
    "        recom += random.choices(all_items, k=k)\n",
    "    return recom"
   ]
  },
  {
   "source": [
    "### Generación de recomendaciones"
   ],
   "cell_type": "markdown",
   "metadata": {}
  },
  {
   "cell_type": "code",
   "execution_count": 16,
   "metadata": {},
   "outputs": [
    {
     "output_type": "stream",
     "name": "stderr",
     "text": [
      "100%|██████████| 177070/177070 [16:25<00:00, 179.61it/s]\n"
     ]
    }
   ],
   "source": [
    "y_pred = []\n",
    "for row in tqdm(rows_test):\n",
    "    recom = get_recs_df(row, 20)\n",
    "    y_pred.append(recom)"
   ]
  },
  {
   "source": [
    "### Scoring local"
   ],
   "cell_type": "markdown",
   "metadata": {}
  },
  {
   "cell_type": "code",
   "execution_count": 16,
   "metadata": {},
   "outputs": [],
   "source": [
    "y_true = [row['item_bought'] for row in rows_test]"
   ]
  },
  {
   "cell_type": "code",
   "execution_count": 17,
   "metadata": {},
   "outputs": [
    {
     "output_type": "stream",
     "name": "stderr",
     "text": [
      "100%|██████████| 82633/82633 [00:19<00:00, 4161.52it/s]Your score is: 0.4191720015167095\n",
      "\n"
     ]
    }
   ],
   "source": [
    "#score = ndcg_score(y_true, y_pred1, item_data,n_predictions=20)\n",
    "score = custom_score(y_true, y_pred, metadata)\n",
    "print(f'Your score is: {score}')"
   ]
  },
  {
   "source": [
    "### Exportación de recomendaciones para envíar al ranker"
   ],
   "cell_type": "markdown",
   "metadata": {}
  },
  {
   "cell_type": "code",
   "execution_count": 17,
   "metadata": {},
   "outputs": [],
   "source": [
    "import pickle"
   ]
  },
  {
   "cell_type": "code",
   "execution_count": 18,
   "metadata": {},
   "outputs": [],
   "source": [
    "with open('y_pred_df_20_reindex.pkl', 'wb') as f:\n",
    "    pickle.dump(y_pred, f)"
   ]
  },
  {
   "cell_type": "code",
   "execution_count": 19,
   "metadata": {},
   "outputs": [
    {
     "output_type": "execute_result",
     "data": {
      "text/plain": [
       "177070"
      ]
     },
     "metadata": {},
     "execution_count": 19
    }
   ],
   "source": [
    "len(y_pred)"
   ]
  }
 ]
}